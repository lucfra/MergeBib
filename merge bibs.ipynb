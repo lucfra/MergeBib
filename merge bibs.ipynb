{
 "cells": [
  {
   "cell_type": "code",
   "execution_count": 130,
   "metadata": {},
   "outputs": [],
   "source": [
    "import glob\n",
    "\n",
    "outname = 'the_merge.bib'"
   ]
  },
  {
   "cell_type": "code",
   "execution_count": 131,
   "metadata": {},
   "outputs": [
    {
     "name": "stdout",
     "output_type": "stream",
     "text": [
      "Files are\n",
      "bibs\\aaa.bib\n",
      "bibs\\bbb.bib\n"
     ]
    }
   ],
   "source": [
    "res = glob.glob('bibs/*.bib')\n",
    "print('Files are')\n",
    "[print(f) for f in res];"
   ]
  },
  {
   "cell_type": "code",
   "execution_count": 132,
   "metadata": {},
   "outputs": [],
   "source": [
    "def parse_entry(lst, init):\n",
    "    l = ' '\n",
    "    while '@' not in l and init< len(lst):\n",
    "        l = lst[init]\n",
    "        init += 1\n",
    "    if init == len(lst):\n",
    "        return None, None, None \n",
    "    init -= 1\n",
    "    \n",
    "    count = 0\n",
    "    label = lst[init].split('{')[-1].split(',')[0]\n",
    "    for k, l in enumerate(lst[init:]):\n",
    "        count = count + len(l.split('{')) - len(l.split('}'))\n",
    "        if count == 0: \n",
    "            break\n",
    "    return label, lst[init:init+k+1], init+k+1\n",
    "\n",
    "def bib_to_dict(filename):\n",
    "    with open(filename, 'r') as f:\n",
    "        lst=f.readlines()\n",
    "    dick = {}\n",
    "    lb, cont, ind = parse_entry(lst, 0)\n",
    "    while lb is not None:\n",
    "        dick[lb] = cont\n",
    "        print(lb)\n",
    "        lb, cont, ind = parse_entry(lst, ind)\n",
    "    print('-> End of ', filename)\n",
    "    return dick\n",
    "            \n",
    "def dict_to_bib(dicc, filename):\n",
    "    with open(outname, 'w') as f:\n",
    "        for c in dicc.values():\n",
    "            f.writelines(c)\n",
    "            f.write('\\n')"
   ]
  },
  {
   "cell_type": "code",
   "execution_count": 133,
   "metadata": {},
   "outputs": [],
   "source": [
    "dic = {}"
   ]
  },
  {
   "cell_type": "code",
   "execution_count": 134,
   "metadata": {
    "scrolled": true
   },
   "outputs": [
    {
     "name": "stdout",
     "output_type": "stream",
     "text": [
      "==============================\n",
      "zoph2016neural\n",
      "andrychowicz2016learning\n",
      "example-citation\n",
      "-> End of  bibs\\aaa.bib\n",
      "==============================\n",
      "zoph2016neural\n",
      "-> End of  bibs\\bbb.bib\n",
      "-> END. Total references 3\n"
     ]
    }
   ],
   "source": [
    "dic = {}\n",
    "for f in res:\n",
    "    print('='*30)\n",
    "    dic = {**dic, **bib_to_dict(f)}\n",
    "print('-> END. Total references', len(dic))"
   ]
  },
  {
   "cell_type": "code",
   "execution_count": 135,
   "metadata": {},
   "outputs": [],
   "source": [
    "dict_to_bib(dic, outname)"
   ]
  },
  {
   "cell_type": "code",
   "execution_count": null,
   "metadata": {},
   "outputs": [],
   "source": []
  },
  {
   "cell_type": "code",
   "execution_count": null,
   "metadata": {},
   "outputs": [],
   "source": []
  }
 ],
 "metadata": {
  "kernelspec": {
   "display_name": "Python 3",
   "language": "python",
   "name": "python3"
  },
  "language_info": {
   "codemirror_mode": {
    "name": "ipython",
    "version": 3
   },
   "file_extension": ".py",
   "mimetype": "text/x-python",
   "name": "python",
   "nbconvert_exporter": "python",
   "pygments_lexer": "ipython3",
   "version": "3.6.4"
  }
 },
 "nbformat": 4,
 "nbformat_minor": 2
}
